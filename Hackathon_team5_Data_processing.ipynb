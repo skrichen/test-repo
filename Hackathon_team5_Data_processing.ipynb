{
 "cells": [
  {
   "cell_type": "code",
   "execution_count": 1,
   "metadata": {},
   "outputs": [],
   "source": [
    "import numpy as np\n",
    "import pandas as pd\n",
    "import matplotlib.pyplot as plt"
   ]
  },
  {
   "cell_type": "code",
   "execution_count": null,
   "metadata": {},
   "outputs": [],
   "source": []
  },
  {
   "cell_type": "code",
   "execution_count": 2,
   "metadata": {},
   "outputs": [],
   "source": [
    "Doc='''With Note-IT; it will be a speech to text educational tool where students can use this desktop application to record their zoom, google-meets, and slack classroom calls in text format. The integration with the web application will be able to record speech in text format with the current speakers name next to the text. The goal for this startup application will be to create a credible and trustworthy educational tool brand by generating awareness in the educational tool industry that is highly competitive. Who is it for?   Students and Educators. What is it one of?  A Desktop  App to convert Speech To Text with reference to the speaker and integration to online learning platforms like Zoom, Slack, and GoogleMeets. What is the meaningful Point of Difference? Speech to text application that records speakers in an online classroom with a way of referencing keywords in class notes. What does it stand for?  Where the notes you need, the information you see and share, and the tools to locate a keyword come together in an all in one platform. What proof do you have?  Real-time speech to text. User-friendly User Interface and Features.  Personalized speech to text with users name before text. Locator Option to choose a keyword to jump to in notes. For creative students looking to highlight their key class notes and expand their knowledge by having a way to reference back on those notes. Note-It is a desktop app to connect students who have suffered from the switch to the online classroom setting  to their notes in a more efficient and smart manner. Where the notes you need, the information you see and share, and the tools to locate a keyword come together in an all-in-one platform, with the passion to create a user friendly desktop application with real-time speech to text, and personalized referencing towards the speaker and keywords.'''"
   ]
  },
  {
   "cell_type": "code",
   "execution_count": 3,
   "metadata": {},
   "outputs": [
    {
     "data": {
      "text/html": [
       "<div>\n",
       "<style scoped>\n",
       "    .dataframe tbody tr th:only-of-type {\n",
       "        vertical-align: middle;\n",
       "    }\n",
       "\n",
       "    .dataframe tbody tr th {\n",
       "        vertical-align: top;\n",
       "    }\n",
       "\n",
       "    .dataframe thead th {\n",
       "        text-align: right;\n",
       "    }\n",
       "</style>\n",
       "<table border=\"1\" class=\"dataframe\">\n",
       "  <thead>\n",
       "    <tr style=\"text-align: right;\">\n",
       "      <th></th>\n",
       "      <th>Lecture</th>\n",
       "    </tr>\n",
       "  </thead>\n",
       "  <tbody>\n",
       "    <tr>\n",
       "      <td>0</td>\n",
       "      <td>With Note-IT; it will be a speech to text educ...</td>\n",
       "    </tr>\n",
       "  </tbody>\n",
       "</table>\n",
       "</div>"
      ],
      "text/plain": [
       "                                             Lecture\n",
       "0  With Note-IT; it will be a speech to text educ..."
      ]
     },
     "execution_count": 3,
     "metadata": {},
     "output_type": "execute_result"
    }
   ],
   "source": [
    "df=pd.DataFrame({\"Lecture\": [Doc] })\n",
    "df\n"
   ]
  },
  {
   "cell_type": "code",
   "execution_count": null,
   "metadata": {},
   "outputs": [],
   "source": []
  },
  {
   "cell_type": "code",
   "execution_count": 4,
   "metadata": {},
   "outputs": [],
   "source": [
    "from sklearn.feature_extraction.text import CountVectorizer"
   ]
  },
  {
   "cell_type": "code",
   "execution_count": 5,
   "metadata": {},
   "outputs": [
    {
     "data": {
      "text/plain": [
       "<1x126 sparse matrix of type '<class 'numpy.int64'>'\n",
       "\twith 126 stored elements in Compressed Sparse Row format>"
      ]
     },
     "execution_count": 5,
     "metadata": {},
     "output_type": "execute_result"
    }
   ],
   "source": [
    "# 1. Instantiate \n",
    "bagofwords = CountVectorizer()\n",
    "\n",
    "# 2. Fit \n",
    "bagofwords.fit(df[\"Lecture\"])\n",
    "\n",
    "# 3. Transform\n",
    "X_train = bagofwords.transform(df[\"Lecture\"])\n",
    "X_train"
   ]
  },
  {
   "cell_type": "code",
   "execution_count": 6,
   "metadata": {},
   "outputs": [
    {
     "data": {
      "text/plain": [
       "['able',\n",
       " 'all',\n",
       " 'an',\n",
       " 'and',\n",
       " 'app',\n",
       " 'application',\n",
       " 'awareness',\n",
       " 'back',\n",
       " 'be',\n",
       " 'before',\n",
       " 'brand',\n",
       " 'by',\n",
       " 'calls',\n",
       " 'can',\n",
       " 'choose',\n",
       " 'class',\n",
       " 'classroom',\n",
       " 'come',\n",
       " 'competitive',\n",
       " 'connect',\n",
       " 'convert',\n",
       " 'create',\n",
       " 'creative',\n",
       " 'credible',\n",
       " 'current',\n",
       " 'desktop',\n",
       " 'difference',\n",
       " 'do',\n",
       " 'does',\n",
       " 'educational',\n",
       " 'educators',\n",
       " 'efficient',\n",
       " 'expand',\n",
       " 'features',\n",
       " 'for',\n",
       " 'format',\n",
       " 'friendly',\n",
       " 'from',\n",
       " 'generating',\n",
       " 'goal',\n",
       " 'google',\n",
       " 'googlemeets',\n",
       " 'have',\n",
       " 'having',\n",
       " 'highlight',\n",
       " 'highly',\n",
       " 'in',\n",
       " 'industry',\n",
       " 'information',\n",
       " 'integration',\n",
       " 'interface',\n",
       " 'is',\n",
       " 'it',\n",
       " 'jump',\n",
       " 'key',\n",
       " 'keyword',\n",
       " 'keywords',\n",
       " 'knowledge',\n",
       " 'learning',\n",
       " 'like',\n",
       " 'locate',\n",
       " 'locator',\n",
       " 'looking',\n",
       " 'manner',\n",
       " 'meaningful',\n",
       " 'meets',\n",
       " 'more',\n",
       " 'name',\n",
       " 'need',\n",
       " 'next',\n",
       " 'note',\n",
       " 'notes',\n",
       " 'of',\n",
       " 'on',\n",
       " 'one',\n",
       " 'online',\n",
       " 'option',\n",
       " 'passion',\n",
       " 'personalized',\n",
       " 'platform',\n",
       " 'platforms',\n",
       " 'point',\n",
       " 'proof',\n",
       " 'real',\n",
       " 'record',\n",
       " 'records',\n",
       " 'reference',\n",
       " 'referencing',\n",
       " 'see',\n",
       " 'setting',\n",
       " 'share',\n",
       " 'slack',\n",
       " 'smart',\n",
       " 'speaker',\n",
       " 'speakers',\n",
       " 'speech',\n",
       " 'stand',\n",
       " 'startup',\n",
       " 'students',\n",
       " 'suffered',\n",
       " 'switch',\n",
       " 'text',\n",
       " 'that',\n",
       " 'the',\n",
       " 'their',\n",
       " 'this',\n",
       " 'those',\n",
       " 'time',\n",
       " 'to',\n",
       " 'together',\n",
       " 'tool',\n",
       " 'tools',\n",
       " 'towards',\n",
       " 'trustworthy',\n",
       " 'use',\n",
       " 'user',\n",
       " 'users',\n",
       " 'way',\n",
       " 'web',\n",
       " 'what',\n",
       " 'where',\n",
       " 'who',\n",
       " 'will',\n",
       " 'with',\n",
       " 'you',\n",
       " 'zoom']"
      ]
     },
     "execution_count": 6,
     "metadata": {},
     "output_type": "execute_result"
    }
   ],
   "source": [
    "# these are now the features, they are the individual tokens\n",
    "bagofwords.get_feature_names()"
   ]
  },
  {
   "cell_type": "code",
   "execution_count": 7,
   "metadata": {},
   "outputs": [
    {
     "name": "stderr",
     "output_type": "stream",
     "text": [
      "[nltk_data] Downloading package wordnet to\n",
      "[nltk_data]     /Users/SanaKrichen/nltk_data...\n",
      "[nltk_data]   Package wordnet is already up-to-date!\n"
     ]
    },
    {
     "name": "stdout",
     "output_type": "stream",
     "text": [
      "rocks : rock\n",
      "corpora : corpus\n"
     ]
    }
   ],
   "source": [
    "import nltk\n",
    "nltk.download('wordnet')\n",
    "from nltk.stem import WordNetLemmatizer \n",
    "  \n",
    "lemmatizer = WordNetLemmatizer() \n",
    "  \n",
    "print(\"rocks :\", lemmatizer.lemmatize(\"rocks\")) \n",
    "print(\"corpora :\", lemmatizer.lemmatize(\"corpora\")) \n"
   ]
  },
  {
   "cell_type": "code",
   "execution_count": 8,
   "metadata": {},
   "outputs": [
    {
     "name": "stderr",
     "output_type": "stream",
     "text": [
      "[nltk_data] Downloading package stopwords to\n",
      "[nltk_data]     /Users/SanaKrichen/nltk_data...\n",
      "[nltk_data]   Package stopwords is already up-to-date!\n"
     ]
    }
   ],
   "source": [
    "\n",
    "import string\n",
    "nltk.download('stopwords')\n",
    "\n",
    "from nltk.corpus import stopwords \n",
    "ENGLISH_STOP_WORDS = stopwords.words('english')\n",
    "\n",
    "def my_tokenizer(sentence):\n",
    "    \n",
    "    for punctuation_mark in string.punctuation:\n",
    "        # Remove punctuation and set to lower case\n",
    "        sentence = sentence.replace(punctuation_mark,'').lower()\n",
    "\n",
    "    # split sentence into words\n",
    "    listofwords = sentence.split(' ')\n",
    "    listoflemmatized_words = []\n",
    "    \n",
    "        \n",
    "    # Remove stopwords and any tokens that are just empty strings\n",
    "    for word in listofwords:\n",
    "        if (not word in ENGLISH_STOP_WORDS) and (word!=''):\n",
    "            # Lemmatize words\n",
    "            lemmatized_word = lemmatizer.lemmatize(word)\n",
    "            listoflemmatized_words.append(lemmatized_word)\n",
    "\n",
    "    return listoflemmatized_words"
   ]
  },
  {
   "cell_type": "code",
   "execution_count": 9,
   "metadata": {},
   "outputs": [
    {
     "data": {
      "text/plain": [
       "['hello', 'student', 'enjoy', 'much', 'learning', 'new', 'thing']"
      ]
     },
     "execution_count": 9,
     "metadata": {},
     "output_type": "execute_result"
    }
   ],
   "source": [
    "my_tokenizer('''Hello I am student and I enjoy very much \\\n",
    "             learning new things''')"
   ]
  },
  {
   "cell_type": "code",
   "execution_count": 10,
   "metadata": {},
   "outputs": [
    {
     "data": {
      "text/plain": [
       "<1x89 sparse matrix of type '<class 'numpy.int64'>'\n",
       "\twith 89 stored elements in Compressed Sparse Row format>"
      ]
     },
     "execution_count": 10,
     "metadata": {},
     "output_type": "execute_result"
    }
   ],
   "source": [
    "bagofwords2 = CountVectorizer(tokenizer=my_tokenizer)\n",
    "bagofwords2.fit(df[\"Lecture\"])\n",
    "\n",
    "# 3. Transform\n",
    "X_train = bagofwords2.transform(df[\"Lecture\"])\n",
    "X_train"
   ]
  },
  {
   "cell_type": "code",
   "execution_count": 11,
   "metadata": {},
   "outputs": [
    {
     "data": {
      "text/html": [
       "<div>\n",
       "<style scoped>\n",
       "    .dataframe tbody tr th:only-of-type {\n",
       "        vertical-align: middle;\n",
       "    }\n",
       "\n",
       "    .dataframe tbody tr th {\n",
       "        vertical-align: top;\n",
       "    }\n",
       "\n",
       "    .dataframe thead th {\n",
       "        text-align: right;\n",
       "    }\n",
       "</style>\n",
       "<table border=\"1\" class=\"dataframe\">\n",
       "  <thead>\n",
       "    <tr style=\"text-align: right;\">\n",
       "      <th></th>\n",
       "      <th>word</th>\n",
       "      <th>count</th>\n",
       "    </tr>\n",
       "  </thead>\n",
       "  <tbody>\n",
       "    <tr>\n",
       "      <td>78</td>\n",
       "      <td>text</td>\n",
       "      <td>10</td>\n",
       "    </tr>\n",
       "    <tr>\n",
       "      <td>52</td>\n",
       "      <td>note</td>\n",
       "      <td>7</td>\n",
       "    </tr>\n",
       "    <tr>\n",
       "      <td>72</td>\n",
       "      <td>speech</td>\n",
       "      <td>7</td>\n",
       "    </tr>\n",
       "    <tr>\n",
       "      <td>3</td>\n",
       "      <td>application</td>\n",
       "      <td>5</td>\n",
       "    </tr>\n",
       "    <tr>\n",
       "      <td>80</td>\n",
       "      <td>tool</td>\n",
       "      <td>5</td>\n",
       "    </tr>\n",
       "    <tr>\n",
       "      <td>71</td>\n",
       "      <td>speaker</td>\n",
       "      <td>4</td>\n",
       "    </tr>\n",
       "    <tr>\n",
       "      <td>19</td>\n",
       "      <td>desktop</td>\n",
       "      <td>4</td>\n",
       "    </tr>\n",
       "    <tr>\n",
       "      <td>75</td>\n",
       "      <td>student</td>\n",
       "      <td>4</td>\n",
       "    </tr>\n",
       "    <tr>\n",
       "      <td>59</td>\n",
       "      <td>platform</td>\n",
       "      <td>3</td>\n",
       "    </tr>\n",
       "    <tr>\n",
       "      <td>55</td>\n",
       "      <td>online</td>\n",
       "      <td>3</td>\n",
       "    </tr>\n",
       "  </tbody>\n",
       "</table>\n",
       "</div>"
      ],
      "text/plain": [
       "           word  count\n",
       "78         text     10\n",
       "52         note      7\n",
       "72       speech      7\n",
       "3   application      5\n",
       "80         tool      5\n",
       "71      speaker      4\n",
       "19      desktop      4\n",
       "75      student      4\n",
       "59     platform      3\n",
       "55       online      3"
      ]
     },
     "execution_count": 11,
     "metadata": {},
     "output_type": "execute_result"
    }
   ],
   "source": [
    "word_counts = np.array(np.sum(X_train, axis=0)).reshape((-1,))\n",
    "words = np.array(bagofwords2.get_feature_names())\n",
    "words_df = pd.DataFrame({\"word\":words, \n",
    "                         \"count\":word_counts})\n",
    "words_df.sort_values(by=\"count\", ascending=False).head(10)"
   ]
  },
  {
   "cell_type": "code",
   "execution_count": 12,
   "metadata": {},
   "outputs": [
    {
     "data": {
      "text/html": [
       "<div>\n",
       "<style scoped>\n",
       "    .dataframe tbody tr th:only-of-type {\n",
       "        vertical-align: middle;\n",
       "    }\n",
       "\n",
       "    .dataframe tbody tr th {\n",
       "        vertical-align: top;\n",
       "    }\n",
       "\n",
       "    .dataframe thead th {\n",
       "        text-align: right;\n",
       "    }\n",
       "</style>\n",
       "<table border=\"1\" class=\"dataframe\">\n",
       "  <thead>\n",
       "    <tr style=\"text-align: right;\">\n",
       "      <th></th>\n",
       "      <th>word</th>\n",
       "      <th>count</th>\n",
       "    </tr>\n",
       "  </thead>\n",
       "  <tbody>\n",
       "    <tr>\n",
       "      <td>0</td>\n",
       "      <td>able</td>\n",
       "      <td>1</td>\n",
       "    </tr>\n",
       "    <tr>\n",
       "      <td>1</td>\n",
       "      <td>allinone</td>\n",
       "      <td>1</td>\n",
       "    </tr>\n",
       "    <tr>\n",
       "      <td>2</td>\n",
       "      <td>app</td>\n",
       "      <td>2</td>\n",
       "    </tr>\n",
       "    <tr>\n",
       "      <td>3</td>\n",
       "      <td>application</td>\n",
       "      <td>5</td>\n",
       "    </tr>\n",
       "    <tr>\n",
       "      <td>4</td>\n",
       "      <td>awareness</td>\n",
       "      <td>1</td>\n",
       "    </tr>\n",
       "    <tr>\n",
       "      <td>...</td>\n",
       "      <td>...</td>\n",
       "      <td>...</td>\n",
       "    </tr>\n",
       "    <tr>\n",
       "      <td>84</td>\n",
       "      <td>user</td>\n",
       "      <td>3</td>\n",
       "    </tr>\n",
       "    <tr>\n",
       "      <td>85</td>\n",
       "      <td>userfriendly</td>\n",
       "      <td>1</td>\n",
       "    </tr>\n",
       "    <tr>\n",
       "      <td>86</td>\n",
       "      <td>way</td>\n",
       "      <td>2</td>\n",
       "    </tr>\n",
       "    <tr>\n",
       "      <td>87</td>\n",
       "      <td>web</td>\n",
       "      <td>1</td>\n",
       "    </tr>\n",
       "    <tr>\n",
       "      <td>88</td>\n",
       "      <td>zoom</td>\n",
       "      <td>2</td>\n",
       "    </tr>\n",
       "  </tbody>\n",
       "</table>\n",
       "<p>89 rows × 2 columns</p>\n",
       "</div>"
      ],
      "text/plain": [
       "            word  count\n",
       "0           able      1\n",
       "1       allinone      1\n",
       "2            app      2\n",
       "3    application      5\n",
       "4      awareness      1\n",
       "..           ...    ...\n",
       "84          user      3\n",
       "85  userfriendly      1\n",
       "86           way      2\n",
       "87           web      1\n",
       "88          zoom      2\n",
       "\n",
       "[89 rows x 2 columns]"
      ]
     },
     "execution_count": 12,
     "metadata": {},
     "output_type": "execute_result"
    }
   ],
   "source": [
    "words_df"
   ]
  },
  {
   "cell_type": "code",
   "execution_count": null,
   "metadata": {},
   "outputs": [],
   "source": []
  },
  {
   "cell_type": "code",
   "execution_count": 13,
   "metadata": {},
   "outputs": [
    {
     "data": {
      "text/plain": [
       "' able '"
      ]
     },
     "execution_count": 13,
     "metadata": {},
     "output_type": "execute_result"
    }
   ],
   "source": [
    "text=(\" \"+ words_df['word'][0]+' ')*words_df['count'][0]\n",
    "text"
   ]
  },
  {
   "cell_type": "code",
   "execution_count": 14,
   "metadata": {},
   "outputs": [
    {
     "data": {
      "text/plain": [
       "' able  allinone  app  app  application  application  application  application  application  awareness  back  brand  call  choose  class  class  classroom  classroom  classroom  come  come  competitive  connect  convert  create  create  creative  credible  current  desktop  desktop  desktop  desktop  difference  educational  educational  educational  educator  efficient  expand  feature  format  format  friendly  generating  goal  googlemeets  googlemeets  highlight  highly  industry  information  information  integration  integration  interface  jump  key  keyword  keyword  keyword  keywords  keywords  knowledge  learning  like  locate  locate  locator  looking  manner  meaningful  name  name  need  need  next  note  note  note  note  note  note  note  noteit  noteit  one  one  online  online  online  option  passion  personalized  personalized  platform  platform  platform  point  proof  realtime  realtime  record  record  record  reference  reference  referencing  referencing  see  see  setting  share  share  slack  slack  smart  speaker  speaker  speaker  speaker  speech  speech  speech  speech  speech  speech  speech  stand  startup  student  student  student  student  suffered  switch  text  text  text  text  text  text  text  text  text  text  together  together  tool  tool  tool  tool  tool  towards  trustworthy  use  user  user  user  userfriendly  way  way  web  zoom  zoom '"
      ]
     },
     "execution_count": 14,
     "metadata": {},
     "output_type": "execute_result"
    }
   ],
   "source": [
    "text=''\n",
    "\n",
    "for i in (words_df).index:\n",
    "    text+=(\" \" + words_df['word'][i]+' ')*words_df['count'][i]\n",
    "    \n",
    "text\n"
   ]
  },
  {
   "cell_type": "code",
   "execution_count": 15,
   "metadata": {},
   "outputs": [
    {
     "data": {
      "text/plain": [
       "['name',\n",
       " 'proof',\n",
       " 'speech',\n",
       " 'towards',\n",
       " 'note',\n",
       " 'slack',\n",
       " 'text',\n",
       " 'speaker',\n",
       " 'interface',\n",
       " 'way',\n",
       " 'industry',\n",
       " 'text',\n",
       " 'app',\n",
       " 'setting',\n",
       " 'locate',\n",
       " 'text',\n",
       " 'desktop',\n",
       " 'user',\n",
       " 'zoom',\n",
       " 'speech',\n",
       " 'text',\n",
       " 'text',\n",
       " 'googlemeets',\n",
       " 'educational',\n",
       " 'speech',\n",
       " 'note',\n",
       " 'call',\n",
       " 'userfriendly',\n",
       " 'desktop',\n",
       " 'current',\n",
       " 'desktop',\n",
       " 'competitive',\n",
       " 'information',\n",
       " 'allinone',\n",
       " 'together',\n",
       " 'switch',\n",
       " 'format',\n",
       " 'user',\n",
       " 'web',\n",
       " 'classroom',\n",
       " 'tool',\n",
       " 'convert',\n",
       " 'application',\n",
       " 'share',\n",
       " 'class',\n",
       " 'create',\n",
       " 'online',\n",
       " 'highlight',\n",
       " 'awareness',\n",
       " 'application',\n",
       " 'platform',\n",
       " 'noteit',\n",
       " 'record',\n",
       " 'text',\n",
       " 'locator',\n",
       " 'option',\n",
       " 'noteit',\n",
       " 'choose',\n",
       " 'knowledge',\n",
       " 'student',\n",
       " 'text',\n",
       " 'desktop',\n",
       " 'highly',\n",
       " 'record',\n",
       " 'referencing',\n",
       " 'integration',\n",
       " 'use',\n",
       " 'name',\n",
       " 'point',\n",
       " 'manner',\n",
       " 'speaker',\n",
       " 'tool',\n",
       " 'educator',\n",
       " 'note',\n",
       " 'text',\n",
       " 'need',\n",
       " 'googlemeets',\n",
       " 'need',\n",
       " 'speech',\n",
       " 'difference',\n",
       " 'back',\n",
       " 'student',\n",
       " 'come',\n",
       " 'classroom',\n",
       " 'text',\n",
       " 'together',\n",
       " 'come',\n",
       " 'passion',\n",
       " 'trustworthy',\n",
       " 'one',\n",
       " 'friendly',\n",
       " 'slack',\n",
       " 'keyword',\n",
       " 'keywords',\n",
       " 'note',\n",
       " 'feature',\n",
       " 'one',\n",
       " 'efficient',\n",
       " 'learning',\n",
       " 'smart',\n",
       " 'record',\n",
       " 'educational',\n",
       " 'application',\n",
       " 'realtime',\n",
       " 'way',\n",
       " 'zoom',\n",
       " 'note',\n",
       " 'information',\n",
       " 'application',\n",
       " 'like',\n",
       " 'next',\n",
       " 'goal',\n",
       " 'keyword',\n",
       " 'credible',\n",
       " 'integration',\n",
       " 'application',\n",
       " 'text',\n",
       " 'expand',\n",
       " 'format',\n",
       " 'keyword',\n",
       " 'classroom',\n",
       " 'class',\n",
       " 'speech',\n",
       " 'connect',\n",
       " 'meaningful',\n",
       " 'speech',\n",
       " 'student',\n",
       " 'online',\n",
       " 'speaker',\n",
       " 'personalized',\n",
       " 'creative',\n",
       " 'note',\n",
       " 'speech',\n",
       " 'tool',\n",
       " 'looking',\n",
       " 'startup',\n",
       " 'reference',\n",
       " 'suffered',\n",
       " 'app',\n",
       " 'see',\n",
       " 'locate',\n",
       " 'stand',\n",
       " 'user',\n",
       " 'able',\n",
       " 'reference',\n",
       " 'share',\n",
       " 'jump',\n",
       " 'see',\n",
       " 'platform',\n",
       " 'brand',\n",
       " 'student',\n",
       " 'online',\n",
       " 'educational',\n",
       " 'create',\n",
       " 'generating',\n",
       " 'speaker',\n",
       " 'referencing',\n",
       " 'platform',\n",
       " 'keywords',\n",
       " 'realtime',\n",
       " 'tool',\n",
       " 'key',\n",
       " 'personalized',\n",
       " 'tool',\n",
       " 'note']"
      ]
     },
     "execution_count": 15,
     "metadata": {},
     "output_type": "execute_result"
    }
   ],
   "source": [
    "list=[]\n",
    "import random\n",
    "list=text.split()\n",
    "random.shuffle(list)\n",
    "list"
   ]
  },
  {
   "cell_type": "code",
   "execution_count": 17,
   "metadata": {},
   "outputs": [
    {
     "data": {
      "text/plain": [
       "' name proof speech towards note slack text speaker interface way industry text app setting locate text desktop user zoom speech text text googlemeets educational speech note call userfriendly desktop current desktop competitive information allinone together switch format user web classroom tool convert application share class create online highlight awareness application platform noteit record text locator option noteit choose knowledge student text desktop highly record referencing integration use name point manner speaker tool educator note text need googlemeets need speech difference back student come classroom text together come passion trustworthy one friendly slack keyword keywords note feature one efficient learning smart record educational application realtime way zoom note information application like next goal keyword credible integration application text expand format keyword classroom class speech connect meaningful speech student online speaker personalized creative note speech tool looking startup reference suffered app see locate stand user able reference share jump see platform brand student online educational create generating speaker referencing platform keywords realtime tool key personalized tool note '"
      ]
     },
     "execution_count": 17,
     "metadata": {},
     "output_type": "execute_result"
    }
   ],
   "source": [
    "text =''\n",
    "\n",
    "for i in list:\n",
    "    text+=(\" \" + i +' ')\n",
    "    \n",
    "text.replace('  ',' ')"
   ]
  },
  {
   "cell_type": "code",
   "execution_count": null,
   "metadata": {},
   "outputs": [],
   "source": []
  }
 ],
 "metadata": {
  "kernelspec": {
   "display_name": "Python 3",
   "language": "python",
   "name": "python3"
  },
  "language_info": {
   "codemirror_mode": {
    "name": "ipython",
    "version": 3
   },
   "file_extension": ".py",
   "mimetype": "text/x-python",
   "name": "python",
   "nbconvert_exporter": "python",
   "pygments_lexer": "ipython3",
   "version": "3.7.7"
  }
 },
 "nbformat": 4,
 "nbformat_minor": 4
}
